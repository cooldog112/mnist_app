{
 "cells": [
  {
   "cell_type": "code",
   "execution_count": 12,
   "metadata": {
    "collapsed": true,
    "pycharm": {
     "name": "#%%\n"
    }
   },
   "outputs": [],
   "source": [
    "from keras.datasets import mnist\n",
    "import matplotlib.pyplot as plt\n",
    "from keras.models import Sequential\n",
    "from keras.layers import Dense\n",
    "import tensorflow as tf\n",
    "\n",
    "(X_train, Y_train),(X_test, Y_test) = mnist.load_data()\n",
    "\n",
    "seed = 0\n",
    "tf.random.set_seed(seed)"
   ]
  },
  {
   "cell_type": "code",
   "execution_count": 13,
   "outputs": [],
   "source": [
    "X_train = X_train.reshape(X_train.shape[0], 784).astype('float32') / 255\n",
    "X_test = X_test.reshape(X_test.shape[0], 784).astype('float32') / 255\n",
    "\n",
    "from keras.utils import np_utils\n",
    "Y_train = np_utils.to_categorical(Y_train, 10)\n",
    "Y_test = np_utils.to_categorical(Y_test, 10)"
   ],
   "metadata": {
    "collapsed": false,
    "pycharm": {
     "name": "#%%\n"
    }
   }
  },
  {
   "cell_type": "code",
   "execution_count": 14,
   "outputs": [],
   "source": [
    "model = Sequential()\n",
    "model.add(Dense(512, input_dim=784, activation='relu'))\n",
    "model.add(Dense(10, activation='softmax'))\n",
    "\n",
    "model.compile(loss='categorical_crossentropy',\n",
    "              optimizer='adam',\n",
    "              metrics=['accuracy'])"
   ],
   "metadata": {
    "collapsed": false,
    "pycharm": {
     "name": "#%%\n"
    }
   }
  },
  {
   "cell_type": "code",
   "execution_count": 15,
   "outputs": [],
   "source": [
    "import os\n",
    "\n",
    "MODEL_PATH = './model/'\n",
    "\n",
    "if not os.path.exists(MODEL_PATH):\n",
    "    os.mkdir(MODEL_PATH)\n",
    "\n",
    "model_path = MODEL_PATH + '{epoch:02d} - {val_loss:.4f}.h5'\n"
   ],
   "metadata": {
    "collapsed": false,
    "pycharm": {
     "name": "#%%\n"
    }
   }
  },
  {
   "cell_type": "code",
   "execution_count": 16,
   "outputs": [],
   "source": [
    "from keras.callbacks import ModelCheckpoint\n",
    "\n",
    "cb_checkpointer = ModelCheckpoint(\n",
    "    filepath=model_path,\n",
    "    monitor='val_loss',\n",
    "    verbose=1,\n",
    "    save_best_only=True\n",
    ")"
   ],
   "metadata": {
    "collapsed": false,
    "pycharm": {
     "name": "#%%\n"
    }
   }
  },
  {
   "cell_type": "code",
   "execution_count": 17,
   "outputs": [],
   "source": [
    "from keras.callbacks import EarlyStopping\n",
    "\n",
    "cb_early_stop = EarlyStopping(\n",
    "    monitor='val_loss',\n",
    "    patience=10\n",
    ")"
   ],
   "metadata": {
    "collapsed": false,
    "pycharm": {
     "name": "#%%\n"
    }
   }
  },
  {
   "cell_type": "code",
   "execution_count": 18,
   "outputs": [
    {
     "name": "stdout",
     "output_type": "stream",
     "text": [
      "\n",
      "Epoch 1: val_loss improved from inf to 0.14486, saving model to ./model\\01 - 0.1449.h5\n",
      "\n",
      "Epoch 2: val_loss improved from 0.14486 to 0.08775, saving model to ./model\\02 - 0.0877.h5\n",
      "\n",
      "Epoch 3: val_loss improved from 0.08775 to 0.05968, saving model to ./model\\03 - 0.0597.h5\n",
      "\n",
      "Epoch 4: val_loss improved from 0.05968 to 0.04701, saving model to ./model\\04 - 0.0470.h5\n",
      "\n",
      "Epoch 5: val_loss improved from 0.04701 to 0.03345, saving model to ./model\\05 - 0.0334.h5\n",
      "\n",
      "Epoch 6: val_loss improved from 0.03345 to 0.02680, saving model to ./model\\06 - 0.0268.h5\n",
      "\n",
      "Epoch 7: val_loss improved from 0.02680 to 0.02011, saving model to ./model\\07 - 0.0201.h5\n",
      "\n",
      "Epoch 8: val_loss improved from 0.02011 to 0.01525, saving model to ./model\\08 - 0.0153.h5\n",
      "\n",
      "Epoch 9: val_loss improved from 0.01525 to 0.01179, saving model to ./model\\09 - 0.0118.h5\n",
      "\n",
      "Epoch 10: val_loss improved from 0.01179 to 0.00945, saving model to ./model\\10 - 0.0095.h5\n",
      "\n",
      "Epoch 11: val_loss improved from 0.00945 to 0.00776, saving model to ./model\\11 - 0.0078.h5\n",
      "\n",
      "Epoch 12: val_loss improved from 0.00776 to 0.00550, saving model to ./model\\12 - 0.0055.h5\n",
      "\n",
      "Epoch 13: val_loss did not improve from 0.00550\n",
      "\n",
      "Epoch 14: val_loss improved from 0.00550 to 0.00349, saving model to ./model\\14 - 0.0035.h5\n",
      "\n",
      "Epoch 15: val_loss improved from 0.00349 to 0.00183, saving model to ./model\\15 - 0.0018.h5\n",
      "\n",
      "Epoch 16: val_loss did not improve from 0.00183\n",
      "\n",
      "Epoch 17: val_loss did not improve from 0.00183\n",
      "\n",
      "Epoch 18: val_loss did not improve from 0.00183\n",
      "\n",
      "Epoch 19: val_loss did not improve from 0.00183\n",
      "\n",
      "Epoch 20: val_loss improved from 0.00183 to 0.00102, saving model to ./model\\20 - 0.0010.h5\n",
      "\n",
      "Epoch 21: val_loss improved from 0.00102 to 0.00059, saving model to ./model\\21 - 0.0006.h5\n",
      "\n",
      "Epoch 22: val_loss did not improve from 0.00059\n",
      "\n",
      "Epoch 23: val_loss did not improve from 0.00059\n",
      "\n",
      "Epoch 24: val_loss did not improve from 0.00059\n",
      "\n",
      "Epoch 25: val_loss did not improve from 0.00059\n",
      "\n",
      "Epoch 26: val_loss improved from 0.00059 to 0.00029, saving model to ./model\\26 - 0.0003.h5\n",
      "\n",
      "Epoch 27: val_loss improved from 0.00029 to 0.00022, saving model to ./model\\27 - 0.0002.h5\n",
      "\n",
      "Epoch 28: val_loss improved from 0.00022 to 0.00019, saving model to ./model\\28 - 0.0002.h5\n",
      "\n",
      "Epoch 29: val_loss improved from 0.00019 to 0.00017, saving model to ./model\\29 - 0.0002.h5\n",
      "\n",
      "Epoch 30: val_loss improved from 0.00017 to 0.00015, saving model to ./model\\30 - 0.0001.h5\n",
      "\n",
      "Epoch 31: val_loss improved from 0.00015 to 0.00014, saving model to ./model\\31 - 0.0001.h5\n",
      "\n",
      "Epoch 32: val_loss did not improve from 0.00014\n",
      "\n",
      "Epoch 33: val_loss improved from 0.00014 to 0.00011, saving model to ./model\\33 - 0.0001.h5\n",
      "\n",
      "Epoch 34: val_loss improved from 0.00011 to 0.00010, saving model to ./model\\34 - 0.0001.h5\n",
      "\n",
      "Epoch 35: val_loss improved from 0.00010 to 0.00009, saving model to ./model\\35 - 0.0001.h5\n",
      "\n",
      "Epoch 36: val_loss improved from 0.00009 to 0.00008, saving model to ./model\\36 - 0.0001.h5\n",
      "\n",
      "Epoch 37: val_loss improved from 0.00008 to 0.00007, saving model to ./model\\37 - 0.0001.h5\n",
      "\n",
      "Epoch 38: val_loss improved from 0.00007 to 0.00007, saving model to ./model\\38 - 0.0001.h5\n",
      "\n",
      "Epoch 39: val_loss did not improve from 0.00007\n",
      "\n",
      "Epoch 40: val_loss did not improve from 0.00007\n",
      "\n",
      "Epoch 41: val_loss did not improve from 0.00007\n",
      "\n",
      "Epoch 42: val_loss did not improve from 0.00007\n",
      "\n",
      "Epoch 43: val_loss did not improve from 0.00007\n",
      "\n",
      "Epoch 44: val_loss did not improve from 0.00007\n",
      "\n",
      "Epoch 45: val_loss did not improve from 0.00007\n",
      "\n",
      "Epoch 46: val_loss did not improve from 0.00007\n",
      "\n",
      "Epoch 47: val_loss did not improve from 0.00007\n",
      "\n",
      "Epoch 48: val_loss did not improve from 0.00007\n"
     ]
    }
   ],
   "source": [
    "history = model.fit(\n",
    "    X_train,\n",
    "    Y_train,\n",
    "    validation_data=(X_train, Y_train),\n",
    "    epochs=50,\n",
    "    batch_size=200,\n",
    "    verbose=0,\n",
    "    callbacks=[cb_checkpointer, cb_early_stop]\n",
    ")"
   ],
   "metadata": {
    "collapsed": false,
    "pycharm": {
     "name": "#%%\n"
    }
   }
  },
  {
   "cell_type": "code",
   "execution_count": 19,
   "outputs": [
    {
     "data": {
      "text/plain": "<Figure size 432x288 with 1 Axes>",
      "image/png": "[encoded data removed]"
     },
     "metadata": {
      "needs_background": "light"
     },
     "output_type": "display_data"
    }
   ],
   "source": [
    "val_loss = history.history['val_loss']\n",
    "val_acc = history.history['val_accuracy']\n",
    "\n",
    "epochs = range(1, len(val_loss) + 1)\n",
    "\n",
    "plt.plot(epochs, val_loss, 'bo', label='Validation loss')\n",
    "plt.plot(epochs, val_acc, 'ro', label='Validation acc')\n",
    "\n",
    "plt.title('Validation loss and accuracy')\n",
    "\n",
    "plt.show()"
   ],
   "metadata": {
    "collapsed": false,
    "pycharm": {
     "name": "#%%\n"
    }
   }
  },
  {
   "cell_type": "code",
   "execution_count": null,
   "outputs": [],
   "source": [],
   "metadata": {
    "collapsed": false,
    "pycharm": {
     "name": "#%%\n"
    }
   }
  }
 ],
 "metadata": {
  "kernelspec": {
   "display_name": "Python 3",
   "language": "python",
   "name": "python3"
  },
  "language_info": {
   "codemirror_mode": {
    "name": "ipython",
    "version": 2
   },
   "file_extension": ".py",
   "mimetype": "text/x-python",
   "name": "python",
   "nbconvert_exporter": "python",
   "pygments_lexer": "ipython2",
   "version": "2.7.6"
  }
 },
 "nbformat": 4,
 "nbformat_minor": 0
}